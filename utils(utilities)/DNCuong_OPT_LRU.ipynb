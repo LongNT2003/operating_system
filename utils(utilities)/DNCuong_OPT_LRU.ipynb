{
 "cells": [
  {
   "cell_type": "markdown",
   "metadata": {},
   "source": [
    "# ***1. TÊN ĐỀ TÀI, THÀNH VIÊN***"
   ]
  },
  {
   "cell_type": "markdown",
   "metadata": {},
   "source": [
    "\n",
    "Thành viên: \n",
    "Đoàn Ngọc Cường - cuong.dn210141@sis.hust.edu.vn\n",
    "Nguyễn Thành Long - long.nt214912@sis.hust.edu.vn\n",
    "Vũ Tùng Linh - linh.vt210523@sis.hust.edu.vn\n",
    "Hà Hoàng Hiệp - hiep.hh214987@sis.hust.edu.vn\n",
    "\n",
    "Sinh viên lựa chọn 1 trong các đề tài trong danh sách, thực hiện rồi làm báo cáo và slide trình bày.\n",
    "I.Nội dung báo cáo: \n",
    "1. Giới thiệu đề tài\n",
    "- Trình bày khái quát về đề tài/ Bài toán mà đề tài giải quyết\n",
    "2. Nội dung chính của đề tài\n",
    "- Miêu tả các giải thuật/ Lời giải đã lựa chọn cho bài toán\n",
    "3. Miêu tả chương trình\n",
    "- Các hàm chính của chương trình:\n",
    "- + Miêu tả dữ liệu đầu ra/ đầu vào\n",
    "+ Công việc mà hàm thực hiện\n",
    "4. Miêu tả giao diện chương trình (Optional)\n",
    "+ Điểm cộng cho chương trình co giao diện đồ họa\n",
    "5. Phân công công việc của các thành viên trong nhóm\n",
    "+Chỉ rõ công việc đã thực hiện: Ví dụ thành viên A thu thập tài liệu, vẽ hình 1.1 trong báo \n",
    "cáo, xây dựng hàm ABC trong chương trình.\n",
    "6. Tài liệu tham khảo (Optional)\n",
    "\n",
    "Đề tài 16 Các giải thuật Thay Thế Trang\n",
    "Xây dựng chương trình minh họa cho các giải thuật thay thế trang, đầu vào là chuỗi truy \n",
    "cập trang của chương trình, đầu ra là số lỗi trang của các giải thuật tương ứng. \n",
    "Input sẽ là chuỗi trang và size của bộ nhớ nhé\n",
    "Output là bộ nhớ sau mỗi vòng lặp và số lỗi trang"
   ]
  },
  {
   "cell_type": "markdown",
   "metadata": {},
   "source": [
    "# ***2. TÌM HIỂU ĐỀ TÀI*** (1h have finished)\n",
    "Reference CHATGPT"
   ]
  },
  {
   "cell_type": "markdown",
   "metadata": {},
   "source": [
    "- Chuỗi truy cập trang: Một dãy số đại diện cho các trang cần truy cập.\n",
    "- Kích thước bộ nhớ: Số lượng khung trang có sẵn trong bộ nhớ."
   ]
  },
  {
   "cell_type": "markdown",
   "metadata": {},
   "source": [
    "Đối với chuỗi truy cập trang, chúng ta có thể sử dụng một dãy ngẫu nhiên như sau: 7, 0, 1, 2, 0, 3, 0, 4, 2, 3, 0, 3, 2, 1.\n",
    "\n",
    "Dựa trên đầu vào này, chúng ta sẽ triển khai một chương trình mô phỏng cho ba giải thuật thay thế trang phổ biến:\n",
    "\n",
    "1. **FIFO (First-In-First-Out)**: Trong giải thuật này, trang đầu tiên vào là trang đầu tiên ra. Khi một trang mới được truy cập, nếu không có trong bộ nhớ, nó sẽ thay thế trang đã được truy cập sớm nhất mà không còn được sử dụng.\n",
    "\n",
    "2. **LRU (Least Recently Used)**: Trang ít được sử dụng gần đây nhất sẽ bị thay thế khi cần không gian cho một trang mới.\n",
    "\n",
    "3. **Optimal Page Replacement**: Giải thuật này dựa trên kiến thức về các trang sẽ được truy cập trong tương lai. Trang không được sử dụng trong thời gian dài nhất trong tương lai sẽ bị thay thế.\n",
    "\n",
    "Chúng ta sẽ mô phỏng từng giải thuật và ghi lại trạng thái bộ nhớ sau mỗi vòng lặp cũng như tổng số lỗi trang. Lỗi trang xảy ra khi một trang được truy cập không có sẵn trong bộ nhớ và cần được tải vào từ bộ nhớ ngoài.\n",
    "\n",
    "Bây giờ, tôi sẽ bắt đầu viết mã để thực hiện mô phỏng này.\n",
    "\n",
    "Dựa trên chuỗi truy cập trang [7, 0, 1, 2, 0, 3,"
   ]
  },
  {
   "cell_type": "markdown",
   "metadata": {},
   "source": [
    "## 2.1. FIFO"
   ]
  },
  {
   "cell_type": "markdown",
   "metadata": {},
   "source": [
    "![FIFO](FIFO.PNG)"
   ]
  },
  {
   "cell_type": "markdown",
   "metadata": {},
   "source": [
    "Thuật toán FIFO (First-In-First-Out) là một trong những chiến lược thay thế trang đơn giản nhất và được sử dụng trong quản lý bộ nhớ ảo. Mục đích chính của nó là để quản lý các trang trong bộ nhớ khi có yêu cầu truy nhập trang mới và không còn không gian trống trong bộ nhớ. Cách thức hoạt động của FIFO có thể được mô tả như sau:\n",
    "\n",
    "1. **Khởi tạo**: Bắt đầu với một bộ nhớ (frame) rỗng hoặc đã chứa một số trang nhất định.\n",
    "\n",
    "2. **Xử lý truy nhập**: Khi một trang mới được truy cập, thuật toán sẽ kiểm tra xem trang đó đã có trong bộ nhớ chưa.\n",
    "   - Nếu trang đã có mặt trong bộ nhớ, không có lỗi trang nào được ghi nhận và quá trình tiếp tục mà không cần thay đổi gì thêm.\n",
    "   - Nếu trang không có mặt trong bộ nhớ và còn chỗ trống, trang mới này sẽ được thêm vào bộ nhớ mà không cần thay thế trang nào cả.\n",
    "   - Nếu trang không có mặt trong bộ nhớ và không còn chỗ trống, một lỗi trang (page fault) sẽ xảy ra.\n",
    "\n",
    "3. **Thay thế trang**: Khi xảy ra lỗi trang, trang được truy cập sớm nhất (đầu tiên vào bộ nhớ) sẽ được loại bỏ để nhường chỗ cho trang mới. Điều này tương tự như cơ chế của một hàng đợi: phần tử vào đầu tiên sẽ ra đầu tiên.\n",
    "\n",
    "4. **Cập nhật hàng đợi**: Sau khi thay thế, trang mới sẽ được thêm vào cuối hàng đợi. Quá trình này lặp lại mỗi khi có truy cập trang mới.\n",
    "\n",
    "Như ví dụ trong hình ảnh bạn đã cung cấp, khi sử dụng 3 khung trang, số lỗi trang được ghi nhận là 9. Điều này cho thấy rằng đã có 9 trang truy cập mà không có sẵn trong bộ nhớ và cần được tải vào từ bộ nhớ ngoài, từ đó gây ra lỗi trang.\n",
    "\n",
    "Nhược điểm của FIFO là nó không tính đến mức độ sử dụng gần đây của các trang trong bộ nhớ. Một trang có thể thường xuyên được sử dụng nhưng vẫn bị loại bỏ chỉ vì nó là trang đầu tiên được tải vào. Điều này có thể dẫn đến số lần lỗi trang cao hơn so với các giải thuật thay thế trang khác như LRU (Least Recently Used) hoặc các giải thuật dự đoán tối ưu.\n",
    "\n",
    "Cụ thể hơn, thuật toán không đảm bảo rằng số lỗi trang sẽ giảm khi tăng số lượng khung trang. Điều này được biết đến như là hiện tượng \"Belady's Anomaly\" - trong đó, tăng số lượng khung trang có thể thực sự dẫn đến tăng số lỗi trang, điều này thể hiện trong ví dụ của bạn khi số lỗi trang tăng từ 9 lên 10 sau khi tăng từ 3 lên 4 khung trang."
   ]
  },
  {
   "cell_type": "markdown",
   "metadata": {},
   "source": [
    "## 2.2. OPT"
   ]
  },
  {
   "cell_type": "markdown",
   "metadata": {},
   "source": [
    "Thuật toán thay thế trang OPT, còn được gọi là Optimal Page Replacement, là một giải thuật lý tưởng được dùng trong quản lý bộ nhớ ảo. Đây là một giải thuật thuần lý thuyết vì nó yêu cầu thông tin mà trong thực tế không thể biết trước được, đó là các trang nào sẽ được sử dụng trong tương lai. Dưới đây là chi tiết về nguyên tắc hoạt động, hướng mở rộng, ưu và nhược điểm, cũng như độ phổ biến của giải thuật OPT.\n",
    "\n",
    "### Nguyên tắc hoạt động:\n",
    "- Khi xảy ra lỗi trang và cần phải thay thế một trang hiện có trong bộ nhớ, thuật toán sẽ chọn trang mà lần sử dụng tiếp theo cách xa nhất trong chuỗi truy cập trang.\n",
    "- Nếu một trang không được sử dụng trong tương lai, nó sẽ là trang đầu tiên bị thay thế.\n",
    "- Thuật toán đảm bảo số lượng lỗi trang là ít nhất có thể.\n",
    "\n",
    "### Hướng mở rộng:\n",
    "- Trong thực tế, không thể biết trước được chuỗi truy cập trang, vì vậy các giải thuật như LRU (Least Recently Used) hoặc các giải thuật dự đoán dựa trên hành vi truy cập gần đây của chương trình được sử dụng làm cơ sở để tiến tới một giải pháp thực tế hơn.\n",
    "- Các mô hình dự báo có thể được sử dụng để mô phỏng hành vi của OPT dựa trên các quy luật hoặc xu hướng truy cập trang trong quá khứ.\n",
    "\n",
    "### Ưu điểm:\n",
    "- OPT cung cấp một lý thuyết giới hạn dưới cho số lỗi trang tối thiểu, có nghĩa là không có giải thuật thực tế nào có thể có số lỗi trang ít hơn số lỗi trang mà OPT đạt được.\n",
    "- Điều này giúp nó trở thành một công cụ hữu ích để so sánh hiệu suất của các giải thuật thay thế trang khác.\n",
    "\n",
    "### Nhược điểm:\n",
    "- Không thể triển khai trong thực tế vì nó yêu cầu thông tin về các truy cập trang trong tương lai.\n",
    "- Nếu sử dụng trong một môi trường mà chuỗi truy cập có thể được biết trước một cách chính xác, OPT vẫn có thể không hiệu quả về mặt thời gian tính toán do cần phải phân tích toàn bộ chuỗi truy cập để quyết định trang nào sẽ bị loại bỏ.\n",
    "\n",
    "### Độ phổ biến:\n",
    "- Mặc dù OPT không thể được sử dụng trong các hệ thống thực tế, nó vẫn là một phần của nền tảng lý thuyết cho việc giảng dạy và nghiên cứu trong lĩnh vực quản lý bộ nhớ.\n",
    "- Các giải thuật thực tế như LRU hay các giải thuật dự đoán sử dụng các kỹ thuật heuristics để cố gắng tiếp cận hiệu suất của OPT.\n",
    "\n",
    "### Tóm lược:\n",
    "Thuật toán OPT là một mô hình lý tưởng trong lý thuyết quản lý bộ nhớ, cung cấp một chuẩn mực để đánh giá các giải thuật thay\n",
    "\n",
    " thế trang khác. Nó chứng minh rằng với thông tin hoàn hảo, số lỗi trang có thể được giảm xuống mức tối thiểu. Tuy nhiên, do không thể biết trước được chuỗi truy cập trang trong thực tế, OPT chủ yếu được sử dụng như một công cụ đánh giá hoặc một mục tiêu lý thuyết để hướng tới trong thiết kế giải thuật."
   ]
  },
  {
   "cell_type": "markdown",
   "metadata": {},
   "source": [
    "## 2.3. LRU"
   ]
  },
  {
   "cell_type": "markdown",
   "metadata": {},
   "source": [
    "Thuật toán LRU (Least Recently Used) là một chiến lược thay thế trang rất phổ biến trong quản lý bộ nhớ ảo. LRU dựa trên nguyên tắc rằng trang mà đã lâu không được sử dụng nhất sẽ có khả năng ít được sử dụng trong tương lai nhất. Dưới đây là một cái nhìn sâu sắc về thuật toán này:\n",
    "\n",
    "### Nguyên tắc hoạt động:\n",
    "- Khi một trang mới cần được nạp vào bộ nhớ và bộ nhớ đầy, thuật toán LRU sẽ loại bỏ trang nào đã lâu nhất không được truy cập.\n",
    "- Mỗi khi một trang được truy cập, nó được đưa lên đầu danh sách. Khi cần phải thay thế, trang ở cuối danh sách này sẽ bị loại bỏ.\n",
    "\n",
    "### Hướng mở rộng:\n",
    "- Cải thiện hiệu suất: Các cấu trúc dữ liệu như danh sách liên kết kép và bảng băm có thể được sử dụng để tối ưu hóa việc tìm kiếm và cập nhật trạng thái LRU.\n",
    "- Dự đoán hành vi: Sử dụng thuật toán học máy để dự đoán các trang nào có khả năng được sử dụng trong tương lai, kết hợp với LRU để cải thiện hiệu suất thay thế trang.\n",
    "\n",
    "### Ưu điểm:\n",
    "- **Hiệu quả**: LRU thường hiệu quả hơn các giải thuật như FIFO, vì nó cố gắng loại bỏ trang ít có khả năng được sử dụng lại.\n",
    "- **Giảm lỗi trang**: Nếu tăng số lượng trang vật lý, LRU đảm bảo giảm số lỗi trang, điều này không phải lúc nào cũng đúng với các giải thuật khác (ví dụ: Belady's Anomaly trong FIFO).\n",
    "- **Stack property**: Một tập các trang trong bộ nhớ có n frames luôn là tập con của các trang trong bộ nhớ có n+1 frames, điều này đảm bảo tính nhất quán.\n",
    "\n",
    "### Nhược điểm:\n",
    "- **Chi phí cài đặt**: Việc theo dõi trang nào là \"ít gần đây nhất\" đòi hỏi một cấu trúc dữ liệu phức tạp và chi phí thời gian chạy cao hơn.\n",
    "- **Chi phí phần cứng**: Đối với các hệ thống lớn, việc cập nhật thông tin LRU có thể yêu cầu phần cứng đặc biệt để giữ cho thời gian truy cập ở mức thấp.\n",
    "\n",
    "### Độ phổ biến:\n",
    "- LRU là một trong những giải thuật thay thế trang được sử dụng rộng rãi nhất do cân bằng tốt giữa hiệu suất và độ phức tạp.\n",
    "- Hầu hết các hệ thống hiện đại đều sử dụng các biến thể của LRU hoặc các giải thuật tương tự có hiệu suất gần tương đương với LRU nhưng với chi phí thấp hơn.\n",
    "\n",
    "### Cài đặt:\n",
    "- Cài đặt của LRU có thể sử dụng danh sách liên kết kép và bảng băm: trang được truy cập gần đây nhất được đưa lên đầu danh sách, trong khi trang để thay thế sẽ là trang ở cuối danh sách. Bảng băm được sử dụng để giảm th\n",
    "\n",
    "ời gian tìm kiếm trang xuống O(1).\n",
    "\n",
    "Tóm lại, LRU là một giải thuật thay thế trang mạnh mẽ, cung cấp một cách tiếp cận tốt để giảm thiểu lỗi trang và tối ưu hóa việc sử dụng bộ nhớ. Nó đòi hỏi một số cấu trúc dữ liệu phức tạp để theo dõi việc sử dụng trang, nhưng nhờ vậy, nó trở nên rất hiệu quả và phổ biến trong các hệ thống thực tế."
   ]
  },
  {
   "cell_type": "markdown",
   "metadata": {},
   "source": [
    "## 2.0 Code"
   ]
  },
  {
   "cell_type": "markdown",
   "metadata": {},
   "source": [
    "Input-Output: \n",
    "Input sẽ là chuỗi trang và size của bộ nhớ nhé\n",
    "Output là bộ nhớ sau mỗi vòng lặp và số lỗi trang"
   ]
  },
  {
   "cell_type": "code",
   "execution_count": 3,
   "metadata": {},
   "outputs": [
    {
     "data": {
      "text/plain": [
       "(15, 12, 9)"
      ]
     },
     "execution_count": 3,
     "metadata": {},
     "output_type": "execute_result"
    }
   ],
   "source": [
    "# Giải thuật thay thế trang: FIFO, LRU, và Optimal\n",
    "\n",
    "# Định nghĩa các hàm cho mỗi giải thuật\n",
    "\n",
    "def fifo(pages, frames):\n",
    "    memory, faults, current = [], 0, 0\n",
    "    for page in pages:\n",
    "        if page not in memory:\n",
    "            if len(memory) < frames:\n",
    "                memory.append(page)\n",
    "            else:\n",
    "                memory[current] = page\n",
    "                current = (current + 1) % frames\n",
    "            faults += 1\n",
    "    return faults\n",
    "\n",
    "def lru(pages, frames):\n",
    "    memory, faults, age = [], 0, []\n",
    "    for page in pages:\n",
    "        if page not in memory:\n",
    "            if len(memory) < frames:\n",
    "                memory.append(page)\n",
    "                age.append(0)\n",
    "            else:\n",
    "                idx = age.index(max(age))\n",
    "                memory[idx] = page\n",
    "                age[idx] = 0\n",
    "            faults += 1\n",
    "        else:\n",
    "            age[memory.index(page)] = 0\n",
    "        age = [x+1 for x in age]\n",
    "    return faults\n",
    "\n",
    "def optimal(pages, frames):\n",
    "    memory, faults = [], 0\n",
    "    for i in range(len(pages)):\n",
    "        if pages[i] not in memory:\n",
    "            if len(memory) < frames:\n",
    "                memory.append(pages[i])\n",
    "            else:\n",
    "                future = pages[i+1:]\n",
    "                idx_to_replace = -1\n",
    "                for j in range(len(memory)):\n",
    "                    if memory[j] not in future:\n",
    "                        idx_to_replace = j\n",
    "                        break\n",
    "                    elif future.index(memory[j]) > (future.index(memory[idx_to_replace]) if idx_to_replace != -1 else -1):\n",
    "                        idx_to_replace = j\n",
    "                memory[idx_to_replace] = pages[i]\n",
    "            faults += 1\n",
    "    return faults\n",
    "\n",
    "# Chuỗi truy cập trang và kích thước bộ nhớ\n",
    "pages = [7, 0, 1, 2, 0, 3, 0, 4, 2, 3, 0, 3, 2, 1, 2, 0, 1, 7, 0, 1]\n",
    "# pages = [1, 2, 3, 4, 1, 2, 5, 1, 2, 3, 4, 5]\n",
    "frames = 3\n",
    "\n",
    "# Tính toán số lỗi trang cho mỗi giải thuật\n",
    "fifo_faults = fifo(pages, frames)\n",
    "lru_faults = lru(pages, frames)\n",
    "optimal_faults = optimal(pages, frames)\n",
    "\n",
    "fifo_faults, lru_faults, optimal_faults\n",
    "\n"
   ]
  },
  {
   "cell_type": "code",
   "execution_count": 8,
   "metadata": {},
   "outputs": [
    {
     "name": "stdout",
     "output_type": "stream",
     "text": [
      "FIFO 15 [[7], [7, 0], [7, 0, 1], [0, 1, 2], [0, 1, 2], [1, 2, 3], [2, 3, 0], [3, 0, 4], [0, 4, 2], [4, 2, 3], [2, 3, 0], [2, 3, 0], [2, 3, 0], [3, 0, 1], [0, 1, 2], [0, 1, 2], [0, 1, 2], [1, 2, 7], [2, 7, 0], [7, 0, 1]]\n",
      "OPT 9 [[7], [7, 0], [7, 0, 1], [0, 1, 2], [0, 1, 2], [0, 2, 3], [0, 2, 3], [2, 3, 4], [2, 3, 4], [2, 3, 4], [2, 3, 0], [2, 3, 0], [2, 3, 0], [2, 0, 1], [2, 0, 1], [2, 0, 1], [2, 0, 1], [0, 1, 7], [0, 1, 7], [0, 1, 7]]\n",
      "LRU 12 [[7], [7, 0], [7, 0, 1], [0, 1, 2], [0, 1, 2], [0, 2, 3], [0, 2, 3], [0, 3, 4], [0, 4, 2], [4, 2, 3], [2, 3, 0], [2, 3, 0], [2, 3, 0], [2, 3, 1], [2, 3, 1], [2, 1, 0], [2, 1, 0], [1, 0, 7], [1, 0, 7], [1, 0, 7]]\n"
     ]
    }
   ],
   "source": [
    "\n",
    "def fifo(pages, frames):\n",
    "    memory, faults, mem_states = [], 0, []\n",
    "    for page in pages:\n",
    "        if page not in memory:\n",
    "            if len(memory) < frames:\n",
    "                memory.append(page)\n",
    "            else:\n",
    "                memory.pop(0)\n",
    "                memory.append(page)\n",
    "            faults += 1\n",
    "        mem_states.append(memory[:])\n",
    "    return faults, mem_states\n",
    "\n",
    "def lru(pages, frames):\n",
    "    memory, faults, mem_states = [], 0, []\n",
    "    # Dùng dictionary để lưu vị trí sử dụng cuối cùng của các trang\n",
    "    last_used = {}\n",
    "    for i, page in enumerate(pages):\n",
    "        if page not in memory:\n",
    "            if len(memory) < frames:\n",
    "                memory.append(page)\n",
    "            else:\n",
    "                # Tìm trang nào là LRU dựa trên vị trí sử dụng cuối cùng\n",
    "                lru_page = min(memory, key=lambda x: last_used[x])\n",
    "                memory.remove(lru_page)\n",
    "                memory.append(page)\n",
    "            faults += 1\n",
    "        # Cập nhật vị trí sử dụng cuối cùng cho trang này\n",
    "        last_used[page] = i\n",
    "        mem_states.append(list(memory))  # Sao chép trạng thái hiện tại của bộ nhớ\n",
    "    return faults, mem_states\n",
    "\n",
    "# Sửa lại cài đặt cho thuật toán OPT để tránh lỗi khi trang không xuất hiện lại trong chuỗi\n",
    "def optimal(pages, frames):\n",
    "    memory, faults, mem_states = [], 0, []\n",
    "    for i in range(len(pages)):\n",
    "        if pages[i] not in memory:\n",
    "            if len(memory) < frames:\n",
    "                memory.append(pages[i])\n",
    "            else:\n",
    "                # Tìm trang không xuất hiện trong tương lai hoặc xuất hiện xa nhất\n",
    "                furthest = -1\n",
    "                to_replace = None\n",
    "                for mem_page in memory:\n",
    "                    if mem_page not in pages[i+1:]:\n",
    "                        to_replace = mem_page\n",
    "                        break\n",
    "                    else:\n",
    "                        next_use = pages[i+1:].index(mem_page)\n",
    "                        if next_use > furthest:\n",
    "                            furthest = next_use\n",
    "                            to_replace = mem_page\n",
    "                memory.remove(to_replace)\n",
    "                memory.append(pages[i])\n",
    "            faults += 1\n",
    "        mem_states.append(list(memory))  # Sao chép trạng thái hiện tại của bộ nhớ\n",
    "    return faults, mem_states\n",
    "\n",
    "# Chuỗi truy cập trang và kích thước bộ nhớ\n",
    "pages = [7, 0, 1, 2, 0, 3, 0, 4, 2, 3, 0, 3, 2, 1, 2, 0, 1, 7, 0, 1]\n",
    "# pages = [1, 2, 3, 4, 1, 2, 5, 1, 2, 3, 4, 5]\n",
    "frames = 3\n",
    "\n",
    "# Chạy lại mô phỏng cho từng giải thuật\n",
    "fifo_faults, fifo_states = fifo(pages, frames)\n",
    "opt_faults, opt_states = optimal(pages, frames)\n",
    "lru_faults, lru_states = lru(pages, frames)\n",
    "\n",
    "print(\"FIFO\", fifo_faults, fifo_states)\n",
    "print(\"OPT\", opt_faults, opt_states)\n",
    "print(\"LRU\", lru_faults, lru_states)\n"
   ]
  },
  {
   "cell_type": "markdown",
   "metadata": {},
   "source": [
    "Nhận xét: Trong mô phỏng này, thuật toán OPT cho thấy hiệu suất tốt nhất với ít lỗi trang nhất, theo sau đó là LRU và cuối cùng là FIFO. Điều này phản ánh phân tích lý thuyết của các giải thuật này, với OPT thường cung cấp giới hạn dưới tối ưu về số lỗi trang, trong khi LRU cố gắng mô phỏng OPT mà không cần dự đoán chuỗi truy cập trang trong tương lai."
   ]
  },
  {
   "cell_type": "markdown",
   "metadata": {},
   "source": [
    "# ***3. PART OF REPORT*** (15ph have finished)"
   ]
  },
  {
   "cell_type": "markdown",
   "metadata": {},
   "source": [
    "## 3.2 Main Content\n",
    "(15min) - reference Phạm Hoàng Hiệp+CHATGPT"
   ]
  },
  {
   "cell_type": "markdown",
   "metadata": {},
   "source": [
    "b, LRU (Least Recently Used):\n",
    "\n",
    "- Mechanism:\n",
    "    - Removes the least recently accessed page when new pages need to be loaded and memory is full.\n",
    "    - Pages are moved to the top of a list each time they're accessed; the page at the bottom is replaced during a page fault.\n",
    "\n",
    "- Advantages:\n",
    "    - More efficient than algorithms like FIFO, as it targets pages least likely to be used again.\n",
    "    - Reduces page faults, especially when increasing physical page numbers (avoids Belady's anomaly).\n",
    "    - Ensures consistency through the stack property (a set of pages in 'n' frames is always a subset of pages in 'n+1' frames).\n",
    "\n",
    "- Disadvantages:\n",
    "    - Higher implementation and runtime costs due to complex data structures needed to track least recently used pages.\n",
    "    - Hardware costs can be significant in large systems for updating LRU information.\n",
    "\n",
    "- Popularity:\n",
    "    - Widely used due to a good balance between performance and complexity.\n",
    "    - Most modern systems use LRU or similar algorithms with near-equivalent performance but lower costs.\n",
    "\n",
    "e, Optimal Page Replacement (OPT or MIN):\n",
    "- Mechanism:\n",
    "    - Replaces the page that will not be used for the longest period in the future.\n",
    "    - Pages not used in the future are the first to be replaced, ensuring the minimum number of page faults.\n",
    "- Advantages\n",
    "    - Provides a theoretical lower bound for minimum page faults, a standard for comparing other algorithms.\n",
    "    - Useful as a benchmarking tool in memory management research and teaching.\n",
    "- Disadvantages:\n",
    "    - Impractical for real-world implementation due to the requirement of future page access information.\n",
    "    - Even in predictable environments, it can be computationally inefficient due to the need to analyze the entire access sequence.\n",
    "- Popularity:\n",
    "    - Not used in practical systems but forms a theoretical basis for the design of more practical algorithms.\n",
    "    - Real-world algorithms like LRU or predictive algorithms use heuristics to approximate OPT's performance."
   ]
  },
  {
   "cell_type": "markdown",
   "metadata": {},
   "source": [
    "\n",
    "In summary, LRU is a robust page replacement strategy widely used in real-world systems, balancing memory usage optimization and minimizing page faults. OPT, while theoretically ideal, remains impractical for actual implementation, serving primarily as a benchmark for comparing the efficiency of other page replacement algorithms."
   ]
  },
  {
   "cell_type": "markdown",
   "metadata": {},
   "source": [
    "## 3.3 Functions\n",
    "(5min) - reference Phạm Hoàng Hiệp+CHATGPT"
   ]
  },
  {
   "cell_type": "markdown",
   "metadata": {},
   "source": [
    "\n",
    "b, LRU Page Replacement Function: `lru_page_replacement(pages, memory_size)`\n",
    "\n",
    "- Function Description:\n",
    "    - This function implements the Least Recently Used (LRU) page replacement algorithm.\n",
    "    - The function takes two parameters: `pages` (a sequence of page accesses) and `memory_size` (the size of the memory).\n",
    "    - It maintains a list `memory` to represent the memory buffer, and a dictionary `last_used` to keep track of the last usage index of each page.\n",
    "    - The function iterates through the `pages` sequence. If a page is not in `memory`, it checks if `memory` is full. If full, it removes the least recently used page, determined by the `last_used` dictionary. The new page is then added to `memory`.\n",
    "    - It keeps track of the total number of page faults and the state of `memory` after each page access.\n",
    "\n",
    "\n",
    "\n",
    "e, OPT Page Replacement Function: `optimal_page_replacement(pages, memory_size)`\n",
    "\n",
    "- Function Description:\n",
    "    - This function implements the Optimal Page Replacement (OPT) algorithm.\n",
    "    - The function takes two parameters: `pages` (a sequence of page accesses) and `memory_size` (the size of the memory).\n",
    "    - It maintains a list `memory` to represent the memory buffer.\n",
    "    - The function iterates through the `pages` sequence. If a page is not in `memory`, and `memory` is full, it determines which page to replace by finding the one that either will not be used in the future or will be used furthest in the future.\n",
    "    - It uses the sequence of future pages to make this determination, ensuring the least number of page faults.\n",
    "    - The function keeps track of the total number of page faults and the state of `memory` after each page access.\n",
    "\n",
    "\n"
   ]
  },
  {
   "cell_type": "markdown",
   "metadata": {},
   "source": [
    "- Return Value:\n",
    "    - The function returns two values: the total number of page faults (`faults`) and a list of memory states after each page access (`mem_states`)."
   ]
  },
  {
   "cell_type": "markdown",
   "metadata": {},
   "source": [
    "\n",
    "These functions accurately simulate the LRU and OPT page replacement strategies in a virtual memory management system. The LRU function uses a more straightforward approach, relying on recent usage history, while the OPT function requires future knowledge of page accesses, making it ideal but impractical for real-world use."
   ]
  }
 ],
 "metadata": {
  "kernelspec": {
   "display_name": "Python 3",
   "language": "python",
   "name": "python3"
  },
  "language_info": {
   "codemirror_mode": {
    "name": "ipython",
    "version": 3
   },
   "file_extension": ".py",
   "mimetype": "text/x-python",
   "name": "python",
   "nbconvert_exporter": "python",
   "pygments_lexer": "ipython3",
   "version": "3.11.5"
  }
 },
 "nbformat": 4,
 "nbformat_minor": 2
}
